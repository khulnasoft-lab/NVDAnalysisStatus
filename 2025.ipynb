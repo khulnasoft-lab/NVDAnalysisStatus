{
 "cells": [
  {
   "attachments": {},
   "cell_type": "markdown",
   "id": "2025-stats-title",
   "metadata": {},
   "source": [
    "# 2025 NVD CVE Analysis Status Stats\n",
    "---"
   ]
  },
  {
   "cell_type": "markdown",
   "id": "2025-code-data-setup",
   "metadata": {},
   "source": [
    "## Code & Data Setup"
   ]
  },
  {
   "cell_type": "code",
   "execution_count": null,
   "id": "2025-imports",
   "metadata": {},
   "outputs": [],
   "source": [
    "from IPython.core.magic import register_cell_magic\n",
    "from IPython.display import Markdown\n",
    "from datetime import date\n",
    "import glob\n",
    "import json\n",
    "import logging\n",
    "import calplot\n",
    "import matplotlib.pyplot as plt\n",
    "import numpy as np\n",
    "import pandas as pd\n",
    "import seaborn as sns \n",
    "import warnings\n",
    "from datetime import datetime\n",
    "\n",
    "logging.getLogger('matplotlib.font_manager').disabled = True\n",
    "warnings.filterwarnings(\"ignore\")\n"
   ]
  },
  {
   "cell_type": "code",
   "execution_count": null,
   "id": "2025-data-processing",
   "metadata": {},
   "outputs": [],
   "source": [
    "row_accumulator = []\n",
    "for filename in glob.glob('nvd.jsonl'):\n",
    "    with open(filename, 'r', encoding='utf-8') as f:\n",
    "        nvd_data = json.load(f)\n",
    "        for entry in nvd_data:\n",
    "            cve = entry['cve']['id']\n",
    "            try:\n",
    "                assigner = entry['cve']['sourceIdentifier']\n",
    "            except KeyError:\n",
    "                assigner = 'Missing_Data'\n",
    "            try:\n",
    "                published_date = entry['cve']['published']\n",
    "            except KeyError:\n",
    "                published_date = 'Missing_Data'\n",
    "            try:\n",
    "                modified_date = entry['cve']['lastModified']\n",
    "            except KeyError:\n",
    "                modified_date = 'Missing_Data'\n",
    "            try:\n",
    "                vuln_status = entry['cve']['vulnStatus']\n",
    "            except KeyError:\n",
    "                vuln_status = 'Missing_Data'\n",
    "            new_row = {\n",
    "                'CVE': cve,\n",
    "                'Published': published_date,\n",
    "                'Modified': modified_date,\n",
    "                'VulnStatus': vuln_status\n",
    "            }\n",
    "            row_accumulator.append(new_row)\n",
    "        nvd = pd.DataFrame(row_accumulator)\n",
    "\n",
    "nvd['Published'] = pd.to_datetime(nvd['Published'])\n",
    "nvd['Modified'] = pd.to_datetime(nvd['Modified'])\n",
    "thisyear = ((nvd['Published'] > '2025-01-01') & (nvd['Published']  < '2026-01-01'))\n",
    "nvd = nvd.loc[thisyear]\n",
    "nvd = nvd.sort_values(by=['Published'])\n",
    "nvd = nvd.reset_index(drop=True)\n",
    "nvdcount = nvd['Published'].count()\n",
    "nvdunique = nvd['Published'].nunique()\n",
    "startdate = date(2025, 1, 1)\n",
    "enddate  = date.today()\n",
    "numberofdays = enddate - startdate \n",
    "per_day = nvdcount/numberofdays.days\n",
    "\n",
    "nvd_vulnstats = nvd['VulnStatus'].value_counts()\n",
    "nvd_vulnstats = nvd_vulnstats.reset_index()\n",
    "nvd215 = nvd.copy()\n",
    "\n",
    "sincenotice = ((nvd['Published'] > '2025-02-15') & (nvd['Published']  < '2026-01-01'))\n",
    "nvd215 = nvd.loc[sincenotice]\n",
    "nvd215_vulnstats = nvd215['VulnStatus'].value_counts()\n",
    "nvd215_vulnstats = nvd215_vulnstats.reset_index()\n",
    "nvd215_awaiting_analysis = nvd215[nvd215['VulnStatus']=='Awaiting Analysis']\n",
    "nvd215_awaiting_analysis = nvd215_awaiting_analysis[['CVE']]\n",
    "\n",
    "nvd_Analyzed = nvd.copy()\n",
    "nvd_Analyzed = nvd_Analyzed[nvd_Analyzed['VulnStatus']=='Analyzed']\n",
    "nvd_Analyzed = nvd_Analyzed.sort_values(by=\"Modified\", ascending=False)\n",
    "pnvd215 = nvd.copy()\n",
    "pnvd215_analyzed = pnvd215[pnvd215['VulnStatus']=='Analyzed']\n",
    "nvd215count = nvd215['Published'].count()\n",
    "startdate = date(2025, 2, 15)\n",
    "enddate  = date.today()\n",
    "numberofdays = enddate - startdate \n",
    "per_day_p = nvd215count/numberofdays.days\n",
    "\n",
    "nvd215Acount = pnvd215_analyzed['Published'].count()\n",
    "startdate = date(2025, 2, 15)\n",
    "enddate  = date.today()\n",
    "numberofdays = enddate - startdate \n",
    "per_day_a = nvd215Acount/numberofdays.days\n",
    "nvd_awaiting_analyzed = nvd[nvd['VulnStatus']=='Awaiting Analysis']\n",
    "days_to_analyze = len(nvd_awaiting_analyzed)/55\n",
    "\n",
    "now = datetime.now()\n",
    "def suffix(day):\n",
    "  suffix = \"\"\n",
    "  if 4 <= day <= 20 or 24 <= day <= 30:\n",
    "    suffix = \"th\"\n",
    "  else:\n",
    "    suffix = [\"st\", \"nd\", \"rd\"][day % 10 - 1]\n",
    "  return suffix\n",
    "report_date = now.strftime(\"%b %-d\" + suffix(now.day))"
   ]
  },
  {
   "cell_type": "markdown",
   "id": "2025-status-heading",
   "metadata": {},
   "source": [
    "## NVD CVE Analysis Stats Status"
   ]
  },
  {
   "cell_type": "code",
   "execution_count": null,
   "id": "2025-summary",
   "metadata": {},
   "outputs": [],
   "source": [
    "print(\"### NVD Analysis Update for\", report_date)\n",
    "print(\"-\", nvd['CVE'].count() , \"CVEs published this year.\")\n",
    "print(\"-\", len(nvd_awaiting_analyzed) , \"CVEs published this year have not been analyzed.\")\n",
    "print(\"- NVD has analyzed\" , nvd215_vulnstats.at[1, \"count\"] , \"CVEs published since February 15th.\")\n",
    "print(\"- For the\" , len(nvd_awaiting_analyzed) , \"unanalyzed CVEs. Analyzing the pre-Feb 15th average, emptying the backlog would take\" , round(days_to_analyze)  , \"days.\")\n"
   ]
  },
  {
   "cell_type": "markdown",
   "id": "2025-calendar-view",
   "metadata": {},
   "source": [
    "### Calendar View"
   ]
  },
  {
   "cell_type": "code",
   "execution_count": null,
   "id": "2025-calendar-code",
   "metadata": {},
   "outputs": [],
   "source": [
    "nvd_Analyzed = nvd.copy()\n",
    "nvd_Analyzed = nvd_Analyzed[nvd_Analyzed['VulnStatus']=='Analyzed']\n",
    "nvd_Analyzed = nvd_Analyzed.sort_values(by=\"Modified\", ascending=False)\n",
    "df = nvd_Analyzed.groupby(nvd_Analyzed['Published'].dt.date).size().to_frame('count')\n",
    "average_value = df.T.squeeze().mean()\n",
    "calplot.calplot(df.T.squeeze(), cmap='tab20c', dropzero=True, edgecolor=\"Grey\", textcolor=\"black\", textformat='{:.0f}', textfiller='', suptitle='NVD CVEs Analyzed Per Day', figsize=(25,3));"
   ]
  },
  {
   "cell_type": "markdown",
   "id": "2025-vulnstats-heading",
   "metadata": {},
   "source": [
    "### CVE Status Stats"
   ]
  },
  {
   "cell_type": "code",
   "execution_count": null,
   "id": "2025-vulnstats-code",
   "metadata": {},
   "outputs": [],
   "source": [
    "nvd_vulnstats "
   ]
  },
  {
   "cell_type": "markdown",
   "id": "2025-post-feb15-heading",
   "metadata": {},
   "source": [
    "### Post Feb 15th CVE Status Stats"
   ]
  },
  {
   "cell_type": "code",
   "execution_count": null,
   "id": "2025-post-feb15-code",
   "metadata": {},
   "outputs": [],
   "source": [
    "nvd215_vulnstats "
   ]
  }
 ],
 "metadata": {
  "kernelspec": {
   "display_name": "Python 3 (ipykernel)",
   "language": "python",
   "name": "python3"
  },
  "language_info": {
   "codemirror_mode": {
    "name": "ipython",
    "version": 3
   },
   "file_extension": ".py",
   "mimetype": "text/x-python",
   "name": "python",
   "nbconvert_exporter": "python",
   "pygments_lexer": "ipython3",
   "version": "3.10.14"
  }
 },
 "nbformat": 4,
 "nbformat_minor": 5
}
